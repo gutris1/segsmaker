{
 "cells": [
  {
   "cell_type": "markdown",
   "id": "1aa13061-4879-421f-a472-8c4419b4e8b9",
   "metadata": {},
   "source": [
    "[![Open in Studio Lab](https://studiolab.sagemaker.aws/studiolab.svg)](https://studiolab.sagemaker.aws/import/github/gutris1/segsmaker/blob/main/Segsmaker_Forge.ipynb)"
   ]
  },
  {
   "cell_type": "markdown",
   "id": "26786ea3-e294-44b6-900a-798b0880de76",
   "metadata": {
    "tags": []
   },
   "source": [
    "## Conda"
   ]
  },
  {
   "cell_type": "code",
   "execution_count": null,
   "id": "3574c7ad-21c7-4b83-ba0d-ae6dc50bad74",
   "metadata": {
    "tags": []
   },
   "outputs": [],
   "source": [
    "!curl -sLo ~/.conda/conda_install.py https://github.com/gutris1/segsmaker/raw/main/script/conda.py\n",
    "%run ~/.conda/conda_install.py"
   ]
  },
  {
   "cell_type": "markdown",
   "id": "011fac09-3453-4fea-bad6-da971f037c3b",
   "metadata": {
    "tags": [],
    "toc-hr-collapsed": true
   },
   "source": [
    "## Install Forge"
   ]
  },
  {
   "cell_type": "code",
   "execution_count": null,
   "id": "ea039995-5ff1-4ccc-abe3-81125a3f14d9",
   "metadata": {},
   "outputs": [],
   "source": [
    "!curl -sLo ~/.conda/setup.py https://github.com/gutris1/segsmaker/raw/main/ui/forge/asd/setup.py\n",
    "%run ~/.conda/setup.py"
   ]
  },
  {
   "cell_type": "code",
   "execution_count": null,
   "id": "598827fd-7cf0-4d73-b982-c417916b7e96",
   "metadata": {
    "tags": []
   },
   "outputs": [],
   "source": [
    "''' Extensions '''\n",
    "%cd -q ~/forge/extensions\n",
    "!git clone URL\n",
    "\n",
    "''' VAE '''\n",
    "%cd -q ~/forge/models/VAE\n",
    "%download https://huggingface.co/NoCrypt/resources/resolve/main/VAE/any.vae.safetensors any.vae.safetensors\n",
    "\n",
    "''' Embeddings '''\n",
    "%cd -q ~/forge/embeddings\n",
    "%download"
   ]
  },
  {
   "cell_type": "markdown",
   "id": "76d639d4-092b-4943-8e4d-57d9aed15c90",
   "metadata": {},
   "source": [
    "#### *Persistent*"
   ]
  },
  {
   "cell_type": "code",
   "execution_count": null,
   "id": "baaef8e4-90a3-4ed4-a1ce-1b5cc2f2e5c1",
   "metadata": {},
   "outputs": [],
   "source": [
    "''' Checkpoint '''\n",
    "%cd -q ~/forge/models/Stable-diffusion\n",
    "%download https://civitai.com/api/download/models/147913 meichidarkMixFp16_45.safetensors\n",
    "\n",
    "''' LoRA '''\n",
    "%cd -q ~/forge/models/Lora\n",
    "%download https://civitai.com/api/download/models/87153 add_detail.safetensors\n",
    "%download https://civitai.com/api/download/models/62833 Detail_Tweaker.safetensors\n",
    "%download https://civitai.com/api/download/models/86247 flat2.safetensors"
   ]
  },
  {
   "cell_type": "markdown",
   "id": "f40692a0-343f-4317-aa8b-d2d14aca74cf",
   "metadata": {},
   "source": [
    "#### *Temporary*"
   ]
  },
  {
   "cell_type": "code",
   "execution_count": null,
   "id": "f8a8e5bc-ebd3-41e5-a1ca-00037a623cd5",
   "metadata": {
    "tags": []
   },
   "outputs": [],
   "source": [
    "''' Controlnet models '''\n",
    "%run ~/forge/asd/controlnet.py"
   ]
  },
  {
   "cell_type": "code",
   "execution_count": null,
   "id": "f63d56c0-d3c0-48cb-95b2-d3b1358a787a",
   "metadata": {},
   "outputs": [],
   "source": [
    "''' SVD '''\n",
    "%tempe\n",
    "%cd -q ~/forge/models/svd\n",
    "%download https://huggingface.co/stabilityai/stable-video-diffusion-img2vid/resolve/main/svd.safetensors svd.safetensors\n",
    "%download https://huggingface.co/stabilityai/stable-video-diffusion-img2vid/resolve/main/svd_image_decoder.safetensors svd_image_decoder.safetensors"
   ]
  },
  {
   "cell_type": "code",
   "execution_count": null,
   "id": "6308f5da-2cb4-4a9b-a542-c3b1d2e16418",
   "metadata": {
    "tags": []
   },
   "outputs": [],
   "source": [
    "''' Checkpoint '''\n",
    "%tempe\n",
    "%cd -q ~/forge/models/Stable-diffusion/tmp_ckpt\n",
    "%download https://civitai.com/api/download/models/357609 Juggernaut-XL_V9-RDPhoto2-Lightning_4S.safetensors\n",
    "\n",
    "''' LoRA '''\n",
    "%cd -q ~/forge/models/Lora/tmp_lora\n",
    "%download https://huggingface.co/Linaqruf/style-enhancer-xl-lora/resolve/main/style-enhancer-xl.safetensors style-enhancer-xl.safetensors\n",
    "%download https://huggingface.co/Linaqruf/anime-detailer-xl-lora/resolve/main/anime-detailer-xl.safetensors anime-detailer-xl.safetensors"
   ]
  },
  {
   "cell_type": "markdown",
   "id": "b4b19ba2-ae2b-481b-9b39-be6eac7a0f77",
   "metadata": {
    "tags": []
   },
   "source": [
    "## Forge Web UI"
   ]
  },
  {
   "cell_type": "code",
   "execution_count": null,
   "id": "41f3fb1f-84f0-4c49-b1b6-d108ff4ebac6",
   "metadata": {},
   "outputs": [],
   "source": [
    "''' Pinggy tunnel, relaunch every 1 hour '''\n",
    "\n",
    "%cd -q ~/forge\n",
    "%run venv.py\n",
    "!python pinggy.py --xformers --cuda-stream --pin-shared-memory --enable-insecure-extension-access --disable-console-progressbars --theme dark"
   ]
  },
  {
   "cell_type": "code",
   "execution_count": null,
   "id": "4cffd230-2fd0-49b2-a91d-eb5b826be801",
   "metadata": {
    "tags": []
   },
   "outputs": [],
   "source": [
    "token = \"YOUR_ZROK_TOKEN\"\n",
    "\n",
    "%cd -q ~/forge\n",
    "%run venv.py\n",
    "!python zrok.py {token} --xformers --cuda-stream --pin-shared-memory --enable-insecure-extension-access --disable-console-progressbars --theme dark"
   ]
  },
  {
   "cell_type": "code",
   "execution_count": null,
   "id": "b201e749-2765-4c3c-8663-8134916c1b2e",
   "metadata": {},
   "outputs": [],
   "source": [
    "token = \"YOUR_NGROK_TOKEN\"\n",
    "\n",
    "%cd -q ~/forge\n",
    "%run venv.py\n",
    "!python ngrok.py {token} --xformers --cuda-stream --pin-shared-memory --enable-insecure-extension-access --disable-console-progressbars --theme dark"
   ]
  },
  {
   "cell_type": "markdown",
   "id": "bfc58f9f-9be7-431e-9859-f75684eda0cf",
   "metadata": {
    "jp-MarkdownHeadingCollapsed": true,
    "tags": []
   },
   "source": [
    "## Extras"
   ]
  },
  {
   "cell_type": "code",
   "execution_count": null,
   "id": "c7fd9ef0-365d-4a37-b3a2-7db663127e3b",
   "metadata": {
    "tags": []
   },
   "outputs": [],
   "source": [
    "''' Register ZROK account '''\n",
    "%run ~/forge/asd/zrok_reg.py"
   ]
  },
  {
   "cell_type": "markdown",
   "id": "6b74f461-3a60-44fe-8d96-b6fe2f0105a5",
   "metadata": {
    "id": "bf5499c3-18fb-4325-8c37-5298751e4f97",
    "slideshow": {
     "slide_type": "skip"
    },
    "tags": []
   },
   "source": [
    "#### Storage"
   ]
  },
  {
   "cell_type": "code",
   "execution_count": null,
   "id": "fe9b41c3-932e-442c-9d5e-d43b83a8096d",
   "metadata": {
    "tags": []
   },
   "outputs": [],
   "source": [
    "''' Check Storage '''\n",
    "\n",
    "%storage"
   ]
  },
  {
   "cell_type": "code",
   "execution_count": null,
   "id": "9951220b-4c44-4e52-80db-9fe37ab3a6f2",
   "metadata": {
    "tags": []
   },
   "outputs": [],
   "source": [
    "''' Delete output images '''\n",
    "\n",
    "!rm -rf ~/forge/output/* ~/.cache/*"
   ]
  },
  {
   "cell_type": "code",
   "execution_count": null,
   "id": "ad29fba3-221f-4748-a0c1-9fef2c745c3f",
   "metadata": {
    "tags": []
   },
   "outputs": [],
   "source": [
    "''' Delete Stable Diffusion '''\n",
    "\n",
    "!rm -rf ~/tmp/* ~/forge ~/tmp ~/.cache/*"
   ]
  },
  {
   "cell_type": "code",
   "execution_count": null,
   "id": "9e058676-e9cc-4a39-aeae-c86852d44f5e",
   "metadata": {
    "tags": []
   },
   "outputs": [],
   "source": [
    "''' DELETE EVERYTHING , restart jupyterlab afterward '''\n",
    "\n",
    "%delete"
   ]
  },
  {
   "cell_type": "markdown",
   "id": "9a182bce-5e36-4430-b53a-ba99d452f182",
   "metadata": {
    "jp-MarkdownHeadingCollapsed": true,
    "tags": []
   },
   "source": [
    "#### ```zip``` Output images"
   ]
  },
  {
   "cell_type": "code",
   "execution_count": null,
   "id": "af21328f-82ce-45d5-b9f4-52edc6537438",
   "metadata": {},
   "outputs": [],
   "source": [
    "%%zipping\n",
    "\n",
    "input_folder  = '/home/studio-lab-user/forge/output'\n",
    "output_folder = '/home/studio-lab-user'"
   ]
  }
 ],
 "metadata": {
  "kernelspec": {
   "display_name": "",
   "name": ""
  },
  "language_info": {
   "name": ""
  }
 },
 "nbformat": 4,
 "nbformat_minor": 5
}
