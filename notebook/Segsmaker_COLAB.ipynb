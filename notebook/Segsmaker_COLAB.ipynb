{
  "nbformat": 4,
  "nbformat_minor": 0,
  "metadata": {
    "colab": {
      "provenance": [],
      "gpuType": "T4"
    },
    "kernelspec": {
      "name": "python3",
      "display_name": "Python 3"
    },
    "language_info": {
      "name": "python"
    },
    "accelerator": "GPU"
  },
  "cells": [
    {
      "cell_type": "markdown",
      "source": [
        "<a href=\"https://github.com/gutris1/segsmaker\">\n",
        "  <img alt=\"GitHub repo\" src=\"https://img.shields.io/badge/GitHub-6e5494?style=for-the-badge&logo=github&logoColor=white\"/>\n",
        "</a>"
      ],
      "metadata": {
        "id": "COlOWoTOMKSP"
      }
    },
    {
      "cell_type": "code",
      "execution_count": null,
      "metadata": {
        "id": "tQqllRM-MCnT"
      },
      "outputs": [],
      "source": [
        "# @title <b><font color='orange'>WebUI Installer</font></b> {\"display-mode\":\"form\"}\n",
        "\n",
        "Webui = 'A1111' # @param [\"A1111\", \"Forge\", \"ComfyUI\", \"ReForge\", \"SwarmUI\"]\n",
        "Civitai___Key = '' # @param { \"type\": \"string\", \"placeholder\": \"Your Civitai API key (required)\" }\n",
        "HF_Read_Token = '' # @param {type:\"string\", placeholder:\"Your Huggingface READ token (optional)\"}\n",
        "Mount_GDrive = 'No' # @param [\"Yes\", \"No\"]\n",
        "BGM = '' # @param {type:\"string\", placeholder:\"youtube video id, default to dQw4w9WgXcQ\"}\n",
        "\n",
        "!curl -sLo /content/setup.py https://github.com/gutris1/segsmaker/raw/main/script/KC/setup.py\n",
        "%run /content/setup.py --webui=\"$Webui\" --civitai_key=\"$Civitai___Key\" --hf_read_token=\"$HF_Read_Token\" --bgm=\"$BGM\"\n",
        "\n",
        "from pathlib import Path\n",
        "\n",
        "if Mount_GDrive == 'Yes':\n",
        "    d = Path('/content/drive/MyDrive/Segsmaker')\n",
        "\n",
        "    for n, p in {'checkpoint': CKPT, 'lora': LORA, 'vae': VAE, 'embeddings': Embeddings}.items(): # type: ignore\n",
        "        f = d / n\n",
        "        f.mkdir(parents=True, exist_ok=True)\n",
        "        s = p / f'drive-{n}'\n",
        "        s.symlink_to(f, target_is_directory=True)\n",
        "\n",
        "    !rm -rf $WebUI_Output\n",
        "    o = d / {'ComfyUI': 'comfyui-output', 'SwarmUI': 'swarmui-output'}.get(Webui, 'output')\n",
        "    o.mkdir(parents=True, exist_ok=True)\n",
        "    WebUI_Output.symlink_to(o, target_is_directory=True)"
      ]
    },
    {
      "cell_type": "code",
      "source": [
        "''' These are placeholders for commands with empty inputs. '''\n",
        "''' Replace them with actual values or skip/delete this cell. '''\n",
        "\n",
        "\n",
        "''' SD Extensions / ComfyUI Custom Nodes '''\n",
        "%cd -q $Extensions\n",
        "!git clone\n",
        "\n",
        "''' VAE '''\n",
        "%cd -q $VAE\n",
        "%download\n",
        "\n",
        "''' Embeddings '''\n",
        "%cd -q $Embeddings\n",
        "%download\n",
        "\n",
        "''' Upscalers '''\n",
        "%cd -q $Upscalers\n",
        "%download\n",
        "\n",
        "''' FLUX Unet '''\n",
        "%cd -q $UNET\n",
        "%download\n",
        "\n",
        "''' FLUX Clip '''\n",
        "%cd -q $CLIP\n",
        "%download"
      ],
      "metadata": {
        "id": "9TeZZ9WrOsxS"
      },
      "execution_count": null,
      "outputs": []
    },
    {
      "cell_type": "code",
      "source": [
        "''' Checkpoint '''\n",
        "%cd -q $CKPT\n",
        "%download https://huggingface.co/pantat88/back_up/resolve/main/bigblu25dmix25DStyle_v10.safetensors\n",
        "\n",
        "''' LoRA '''\n",
        "%cd -q $LORA\n",
        "%download https://civitai.com/models/122359/detail-tweaker-xl\n",
        "%download https://civitai.com/models/669571/pony-add-more-details"
      ],
      "metadata": {
        "id": "CuR9tiSnPRBM"
      },
      "execution_count": null,
      "outputs": []
    },
    {
      "cell_type": "code",
      "source": [
        "''' Controlnet '''\n",
        "%run $Controlnet_Widget"
      ],
      "metadata": {
        "id": "wO4OTCOWALEc"
      },
      "execution_count": null,
      "outputs": []
    },
    {
      "cell_type": "markdown",
      "source": [
        "## Launcher\n",
        "args list :\n",
        "-  **A1111** = `--xformers`\n",
        "- **Forge** = `--disable-xformers --opt-sdp-attention --cuda-stream --pin-shared-memory`\n",
        "- **ComfyUI** = `--dont-print-server --preview-method auto --use-pytorch-cross-attention`\n",
        "- **ReForge** = `--xformers --cuda-stream --pin-shared-memory`\n",
        "- **SwarmUI** = `--launch_mode none`\n",
        "<br><br>\n",
        "\n",
        "For ComfyUI, add `--skip-comfyui-check` to skip checking the main requirements and custom node dependencies\n",
        "\n",
        "Add **--N=ngrok_token** to start NGROK tunnel<br>\n",
        "Add **--Z=zrok_token** to start ZROK tunnel"
      ],
      "metadata": {
        "id": "BB8pCZnrQnR9"
      }
    },
    {
      "cell_type": "code",
      "source": [
        "%cd -q $WebUI\n",
        "%run segsmaker.py --xformers"
      ],
      "metadata": {
        "id": "ps7AEUdGX2iE"
      },
      "execution_count": null,
      "outputs": []
    }
  ]
}
