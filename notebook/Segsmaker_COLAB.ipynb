{
  "nbformat": 4,
  "nbformat_minor": 0,
  "metadata": {
    "colab": {
      "provenance": [],
      "gpuType": "T4"
    },
    "kernelspec": {
      "name": "python3",
      "display_name": "Python 3"
    },
    "language_info": {
      "name": "python"
    },
    "accelerator": "GPU"
  },
  "cells": [
    {
      "cell_type": "markdown",
      "source": [
        "<a href=\"https://github.com/gutris1/segsmaker\">\n",
        "  <img alt=\"GitHub repo\" src=\"https://img.shields.io/badge/GitHub-6e5494?style=for-the-badge&logo=github&logoColor=white\"/>\n",
        "</a>\n",
        "\n",
        "**webui list** = A1111, Forge, ComfyUI, ReForge, SwarmUI<br>\n",
        "**sd list** = 1.5 or xl<br>\n",
        "**civitai_key** = get your civitai api key from [here](https://civitai.com/user/account)<br>\n",
        "**hf_read_token** = for downloading models from your private repo (**optional**)"
      ],
      "metadata": {
        "id": "COlOWoTOMKSP"
      }
    },
    {
      "cell_type": "markdown",
      "source": [
        "### Webui Installer"
      ],
      "metadata": {
        "id": "jGqu75B1Qqam"
      }
    },
    {
      "cell_type": "code",
      "execution_count": null,
      "metadata": {
        "id": "tQqllRM-MCnT",
        "cellView": "form"
      },
      "outputs": [],
      "source": [
        "# @markdown ### <br> **WebUI configuration**\n",
        "\n",
        "webui = 'A1111' # @param [\"A1111\", \"Forge\", \"ComfyUI\", \"ReForge\", \"SwarmUI\"]\n",
        "sd = 'xl' # @param [\"1.5\", \"xl\"]\n",
        "civitai_key = '' # @param {type:\"string\", placeholder:\"your Civitai API key\"}\n",
        "hf_read_token = '' # @param {type:\"string\", placeholder:\"your Huggingface READ token (optional)\"}\n",
        "\n",
        "!curl -sLo /content/setup.py https://github.com/gutris1/segsmaker/raw/main/script/KC/setup.py\n",
        "%run /content/setup.py --webui=\"$webui\" --sd=\"$sd\" --civitai_key=\"$civitai_key\" --hf_read_token=\"$hf_read_token\""
      ]
    },
    {
      "cell_type": "code",
      "source": [
        "''' SD Extensions / ComfyUI Custom Nodes '''\n",
        "%cd -q $Extensions\n",
        "!git clone\n",
        "\n",
        "''' VAE '''\n",
        "%cd -q $VAE\n",
        "%download\n",
        "\n",
        "''' Embeddings '''\n",
        "%cd -q $Embeddings\n",
        "%download\n",
        "\n",
        "''' Upscalers '''\n",
        "%cd -q $Upscalers\n",
        "%download"
      ],
      "metadata": {
        "id": "9TeZZ9WrOsxS"
      },
      "execution_count": null,
      "outputs": []
    },
    {
      "cell_type": "code",
      "source": [
        "''' Checkpoint '''\n",
        "%cd -q $CKPT\n",
        "%download https://civitai.com/api/download/models/785352 bigblu25dmix25DStyle_v10.safetensors\n",
        "\n",
        "''' LoRA '''\n",
        "%cd -q $LORA\n",
        "%download https://civitai.com/models/122359/detail-tweaker-xl\n",
        "%download https://civitai.com/models/669571/pony-add-more-details"
      ],
      "metadata": {
        "id": "CuR9tiSnPRBM"
      },
      "execution_count": null,
      "outputs": []
    },
    {
      "cell_type": "code",
      "source": [
        "''' Controlnet '''\n",
        "%run $Controlnet_Widget"
      ],
      "metadata": {
        "id": "wO4OTCOWALEc"
      },
      "execution_count": null,
      "outputs": []
    },
    {
      "cell_type": "markdown",
      "source": [
        "### Launcher\n",
        "args list :\n",
        "-  **A1111** = `--xformers`\n",
        "- **Forge** = `--disable-xformers --opt-sdp-attention --cuda-stream --pin-shared-memory`\n",
        "- **ComfyUI** = `--dont-print-server --preview-method auto --use-pytorch-cross-attention`\n",
        "- **ReForge** = `--xformers --cuda-stream --pin-shared-memory`\n",
        "- **SwarmUI** = `--launch_mode none`\n",
        "<br><br>\n",
        "\n",
        "For ComfyUI, add `--skip-comfyui-check` to skip checking custom node dependencies"
      ],
      "metadata": {
        "id": "BB8pCZnrQnR9"
      }
    },
    {
      "cell_type": "code",
      "source": [
        "%cd -q $WebUI\n",
        "%run segsmaker.py --xformers"
      ],
      "metadata": {
        "id": "1rU4mCbvPpzs"
      },
      "execution_count": null,
      "outputs": []
    }
  ]
}
