{
  "nbformat": 4,
  "nbformat_minor": 0,
  "metadata": {
    "colab": {
      "provenance": [],
      "gpuType": "T4"
    },
    "kernelspec": {
      "name": "python3",
      "display_name": "Python 3"
    },
    "language_info": {
      "name": "python"
    },
    "accelerator": "GPU"
  },
  "cells": [
    {
      "cell_type": "markdown",
      "source": [
        "[Github](https://github.com/gutris1/segsmaker)\n",
        "\n",
        "**webui list** = A1111, Forge, ComfyUI, ReForge<br>\n",
        "**sd list** = 1.5 or xl<br>\n",
        "**civitai_key** = get your civitai api key from [here](https://civitai.com/user/account)"
      ],
      "metadata": {
        "id": "COlOWoTOMKSP"
      }
    },
    {
      "cell_type": "markdown",
      "source": [
        "### Webui Installer"
      ],
      "metadata": {
        "id": "jGqu75B1Qqam"
      }
    },
    {
      "cell_type": "code",
      "execution_count": null,
      "metadata": {
        "id": "tQqllRM-MCnT"
      },
      "outputs": [],
      "source": [
        "webui = 'A1111'\n",
        "sd = 'xl'\n",
        "civitai_key = 'your civitai api key'\n",
        "\n",
        "!curl -sLo /content/setup.py https://github.com/gutris1/segsmaker/raw/main/kaggle/script/setup.py\n",
        "%run /content/setup.py --webui=$webui --sd=$sd --civitai_key=$civitai_key"
      ]
    },
    {
      "cell_type": "code",
      "source": [
        "''' SD Extensions / ComfyUI Custom Nodes '''\n",
        "%cd -q $extensions\n",
        "!git clone\n",
        "\n",
        "''' VAE '''\n",
        "%cd -q $vae\n",
        "%download\n",
        "\n",
        "''' Embeddings '''\n",
        "%cd -q $embeddings\n",
        "%download"
      ],
      "metadata": {
        "id": "9TeZZ9WrOsxS"
      },
      "execution_count": null,
      "outputs": []
    },
    {
      "cell_type": "code",
      "source": [
        "''' Checkpoint '''\n",
        "%cd -q $ckpt\n",
        "%download https://civitai.com/api/download/models/785352 bigblu25dmix25DStyle_v10.safetensors\n",
        "\n",
        "''' LoRA '''\n",
        "%cd -q $lora\n",
        "%download https://civitai.com/models/122359/detail-tweaker-xl\n",
        "%download https://civitai.com/models/669571/pony-add-more-details"
      ],
      "metadata": {
        "id": "CuR9tiSnPRBM"
      },
      "execution_count": null,
      "outputs": []
    },
    {
      "cell_type": "markdown",
      "source": [
        "### Launcher\n",
        "args list :\n",
        "-  **A1111** = `--xformers --no-half-vae`\n",
        "- **Forge** = `--disable-xformers --opt-sdp-attention --cuda-stream --pin-shared-memory`\n",
        "- **ComfyUI** = `--dont-print-server --preview-method auto --use-pytorch-cross-attention`\n",
        "- **ReForge** = `--xformers --cuda-stream --pin-shared-memory`\n",
        "<br><br>\n",
        "\n",
        "For ComfyUI, add `--skip-comfyui-check` to skip checking custom node dependencies"
      ],
      "metadata": {
        "id": "BB8pCZnrQnR9"
      }
    },
    {
      "cell_type": "code",
      "source": [
        "%cd -q $webui\n",
        "%run segsmaker.py --xformers --no-half-vae"
      ],
      "metadata": {
        "id": "1rU4mCbvPpzs"
      },
      "execution_count": null,
      "outputs": []
    }
  ]
}