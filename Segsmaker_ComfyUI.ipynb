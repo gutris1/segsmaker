{
 "cells": [
  {
   "cell_type": "markdown",
   "id": "b6f1eec1-3cc5-4fa1-95ab-ef38e9785d60",
   "metadata": {},
   "source": [
    "[![Open in Studio Lab](https://studiolab.sagemaker.aws/studiolab.svg)](https://studiolab.sagemaker.aws/import/github/gutris1/segsmaker/blob/main/Segsmaker_ComfyUI.ipynb)"
   ]
  },
  {
   "cell_type": "markdown",
   "id": "26786ea3-e294-44b6-900a-798b0880de76",
   "metadata": {
    "tags": []
   },
   "source": [
    "## Conda"
   ]
  },
  {
   "cell_type": "code",
   "execution_count": null,
   "id": "2d3e396f-46be-4809-8605-031de38bf8b4",
   "metadata": {
    "tags": []
   },
   "outputs": [],
   "source": [
    "!curl -sLo ~/.conda/conda_install.py https://github.com/gutris1/segsmaker/raw/main/script/conda.py\n",
    "%run ~/.conda/conda_install.py"
   ]
  },
  {
   "cell_type": "markdown",
   "id": "011fac09-3453-4fea-bad6-da971f037c3b",
   "metadata": {
    "tags": []
   },
   "source": [
    "## Install ComfyUI"
   ]
  },
  {
   "cell_type": "code",
   "execution_count": null,
   "id": "a324bbd6-ff49-4f35-a50a-b12df7531061",
   "metadata": {},
   "outputs": [],
   "source": [
    "!curl -sLo ~/.conda/ComfyUI_setup.py https://github.com/gutris1/segsmaker/raw/main/ui/cui/asd/ComfyUI.py\n",
    "%run ~/.conda/ComfyUI_setup.py"
   ]
  },
  {
   "cell_type": "code",
   "execution_count": null,
   "id": "598827fd-7cf0-4d73-b982-c417916b7e96",
   "metadata": {
    "tags": []
   },
   "outputs": [],
   "source": [
    "''' Custom Nodes '''\n",
    "%cd -q ~/ComfyUI/custom_nodes\n",
    "!git clone URL\n",
    "\n",
    "''' VAE '''\n",
    "%cd -q ~/ComfyUI/models/vae\n",
    "%download https://huggingface.co/NoCrypt/resources/resolve/main/VAE/any.vae.safetensors any.vae.safetensors\n",
    "\n",
    "''' Embeddings '''\n",
    "%cd -q ~/ComfyUI/models/embeddings\n",
    "%download"
   ]
  },
  {
   "cell_type": "markdown",
   "id": "c8d5d6aa-8dc8-46af-8aa5-785b25d68ae7",
   "metadata": {
    "tags": []
   },
   "source": [
    "#### *Persistent*"
   ]
  },
  {
   "cell_type": "code",
   "execution_count": null,
   "id": "a6d5bcdd-cbfd-4cf0-a5bd-04004f7b59cc",
   "metadata": {},
   "outputs": [],
   "source": [
    "''' Checkpoint '''\n",
    "%cd -q ~/ComfyUI/models/checkpoints\n",
    "%download https://civitai.com/api/download/models/147913 meichidarkMixFp16_45.safetensors\n",
    "\n",
    "''' LoRA '''\n",
    "%cd -q ~/ComfyUI/models/loras\n",
    "%download https://civitai.com/api/download/models/87153 add_detail.safetensors\n",
    "%download https://civitai.com/api/download/models/62833 Detail_Tweaker.safetensors\n",
    "%download https://civitai.com/api/download/models/86247 flat2.safetensors"
   ]
  },
  {
   "cell_type": "markdown",
   "id": "e1686fb4-1cf7-4abf-bdef-f742beb84e0c",
   "metadata": {
    "tags": []
   },
   "source": [
    "#### *Temporary*"
   ]
  },
  {
   "cell_type": "code",
   "execution_count": null,
   "id": "59767734-c382-4813-8bbc-c38044f2df40",
   "metadata": {},
   "outputs": [],
   "source": [
    "''' Controlnet models '''\n",
    "%run ~/ComfyUI/asd/controlnet.py"
   ]
  },
  {
   "cell_type": "code",
   "execution_count": null,
   "id": "58cad0c8-1007-499f-a5a5-bb2b028288c1",
   "metadata": {
    "tags": []
   },
   "outputs": [],
   "source": [
    "''' Checkpoint '''\n",
    "%tempe\n",
    "%cd -q ~/ComfyUI/models/checkpoints/tmp_ckpt\n",
    "%download https://civitai.com/api/download/models/357609 Juggernaut-XL_V9-RDPhoto2-Lightning_4S.safetensors\n",
    "\n",
    "''' LoRA '''\n",
    "%cd -q ~/ComfyUI/models/loras/tmp_lora\n",
    "%download https://huggingface.co/Linaqruf/style-enhancer-xl-lora/resolve/main/style-enhancer-xl.safetensors style-enhancer-xl.safetensors\n",
    "%download https://huggingface.co/Linaqruf/anime-detailer-xl-lora/resolve/main/anime-detailer-xl.safetensors anime-detailer-xl.safetensors"
   ]
  },
  {
   "cell_type": "markdown",
   "id": "b4b19ba2-ae2b-481b-9b39-be6eac7a0f77",
   "metadata": {
    "tags": []
   },
   "source": [
    "## ComfyUI Web UI"
   ]
  },
  {
   "cell_type": "code",
   "execution_count": null,
   "id": "cb946c30-02d4-4ca3-9c52-2201b3ce705e",
   "metadata": {
    "tags": []
   },
   "outputs": [],
   "source": [
    "''' Pinggy tunnel, relaunch every 1 hour '''\n",
    "\n",
    "%cd -q ~/ComfyUI\n",
    "%run venv.py\n",
    "!python pinggy.py --dont-print-server --preview-method auto --use-pytorch-cross-attention"
   ]
  },
  {
   "cell_type": "code",
   "execution_count": null,
   "id": "4cffd230-2fd0-49b2-a91d-eb5b826be801",
   "metadata": {
    "tags": []
   },
   "outputs": [],
   "source": [
    "token = \"YOUR_ZROK_TOKEN\"\n",
    "\n",
    "%cd -q ~/ComfyUI\n",
    "%run venv.py\n",
    "!python zrok.py {token} --dont-print-server --preview-method auto --use-pytorch-cross-attention"
   ]
  },
  {
   "cell_type": "code",
   "execution_count": null,
   "id": "a84f33cd-684e-4dce-a3c5-3f285625c065",
   "metadata": {},
   "outputs": [],
   "source": [
    "token = \"YOUR_NGROK_TOKEN\"\n",
    "\n",
    "%cd -q ~/ComfyUI\n",
    "%run venv.py\n",
    "!python ngrok.py {token} --dont-print-server --preview-method auto --use-pytorch-cross-attention"
   ]
  },
  {
   "cell_type": "markdown",
   "id": "b321c948-5d0c-4f7d-9583-04a75b841e37",
   "metadata": {
    "jp-MarkdownHeadingCollapsed": true,
    "tags": []
   },
   "source": [
    "## Extras"
   ]
  },
  {
   "cell_type": "code",
   "execution_count": null,
   "id": "74a3d7c6-3ae1-4d0b-b426-72f3060025c7",
   "metadata": {},
   "outputs": [],
   "source": [
    "''' Register ZROK account '''\n",
    "%run ~/ComfyUI/asd/zrok_reg.py"
   ]
  },
  {
   "cell_type": "markdown",
   "id": "6b74f461-3a60-44fe-8d96-b6fe2f0105a5",
   "metadata": {
    "id": "bf5499c3-18fb-4325-8c37-5298751e4f97",
    "tags": []
   },
   "source": [
    "#### Storage"
   ]
  },
  {
   "cell_type": "code",
   "execution_count": null,
   "id": "fe9b41c3-932e-442c-9d5e-d43b83a8096d",
   "metadata": {
    "tags": []
   },
   "outputs": [],
   "source": [
    "''' Check Storage '''\n",
    "\n",
    "%storage"
   ]
  },
  {
   "cell_type": "code",
   "execution_count": null,
   "id": "9951220b-4c44-4e52-80db-9fe37ab3a6f2",
   "metadata": {
    "tags": []
   },
   "outputs": [],
   "source": [
    "''' Delete output images '''\n",
    "\n",
    "!rm -rf ~/ComfyUI/output/* ~/.cache/*"
   ]
  },
  {
   "cell_type": "code",
   "execution_count": null,
   "id": "66ad2fea-6aab-4768-a26b-d880eb046623",
   "metadata": {
    "tags": []
   },
   "outputs": [],
   "source": [
    "''' Delete ComfyUI '''\n",
    "\n",
    "!rm -rf ~/tmp/* ~/ComfyUI ~/tmp ~/.cache/*"
   ]
  },
  {
   "cell_type": "code",
   "execution_count": null,
   "id": "9e058676-e9cc-4a39-aeae-c86852d44f5e",
   "metadata": {
    "tags": []
   },
   "outputs": [],
   "source": [
    "''' DELETE EVERYTHING , restart jupyterlab afterward '''\n",
    "\n",
    "%delete"
   ]
  },
  {
   "cell_type": "markdown",
   "id": "89f767e5-2ab8-41b0-81ed-8fda5af53342",
   "metadata": {
    "jp-MarkdownHeadingCollapsed": true,
    "tags": []
   },
   "source": [
    "#### ```zip``` Output images"
   ]
  },
  {
   "cell_type": "code",
   "execution_count": null,
   "id": "e4136d67-2cb1-473e-b5bf-4d4f7ab16df8",
   "metadata": {
    "tags": []
   },
   "outputs": [],
   "source": [
    "%%zipping\n",
    "\n",
    "input_folder  = '/home/studio-lab-user/ComfyUI/output'\n",
    "output_folder = '/home/studio-lab-user'"
   ]
  }
 ],
 "metadata": {
  "kernelspec": {
   "display_name": "",
   "name": ""
  },
  "language_info": {
   "name": ""
  }
 },
 "nbformat": 4,
 "nbformat_minor": 5
}
