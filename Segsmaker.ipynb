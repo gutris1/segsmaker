{
 "cells": [
  {
   "cell_type": "markdown",
   "id": "1aa13061-4879-421f-a472-8c4419b4e8b9",
   "metadata": {},
   "source": [
    "[![Open in Studio Lab](https://studiolab.sagemaker.aws/studiolab.svg)](https://studiolab.sagemaker.aws/import/github/gutris1/segsmaker/blob/main/Segsmaker.ipynb)"
   ]
  },
  {
   "cell_type": "markdown",
   "id": "26786ea3-e294-44b6-900a-798b0880de76",
   "metadata": {
    "tags": []
   },
   "source": [
    "## Conda"
   ]
  },
  {
   "cell_type": "code",
   "execution_count": null,
   "id": "3574c7ad-21c7-4b83-ba0d-ae6dc50bad74",
   "metadata": {
    "tags": []
   },
   "outputs": [],
   "source": [
    "!curl -sLo ~/.conda/conda_install.py https://github.com/gutris1/segsmaker/raw/main/script/conda.py\n",
    "%run ~/.conda/conda_install.py"
   ]
  },
  {
   "cell_type": "markdown",
   "id": "011fac09-3453-4fea-bad6-da971f037c3b",
   "metadata": {
    "tags": [],
    "toc-hr-collapsed": true
   },
   "source": [
    "## Install SD"
   ]
  },
  {
   "cell_type": "code",
   "execution_count": null,
   "id": "3b4990da-52c9-4728-b04a-a989215221e3",
   "metadata": {
    "tags": []
   },
   "outputs": [],
   "source": [
    "!curl -sLo ~/.conda/setup.py https://github.com/gutris1/segsmaker/raw/main/ui/sd/asd/setup.py\n",
    "%run ~/.conda/setup.py"
   ]
  },
  {
   "cell_type": "code",
   "execution_count": null,
   "id": "598827fd-7cf0-4d73-b982-c417916b7e96",
   "metadata": {
    "tags": []
   },
   "outputs": [],
   "source": [
    "''' Extensions '''\n",
    "%cd -q ~/asd/extensions\n",
    "!git clone URL\n",
    "\n",
    "''' VAE '''\n",
    "%cd -q ~/asd/models/VAE\n",
    "%download https://huggingface.co/NoCrypt/resources/resolve/main/VAE/any.vae.safetensors any.vae.safetensors\n",
    "\n",
    "''' Embeddings '''\n",
    "%cd -q ~/asd/embeddings\n",
    "%download"
   ]
  },
  {
   "cell_type": "markdown",
   "id": "0a0d2b52-763f-4002-ad88-1d4d8fcfded9",
   "metadata": {
    "tags": []
   },
   "source": [
    "#### *Persistent*"
   ]
  },
  {
   "cell_type": "code",
   "execution_count": null,
   "id": "a95d3607-519e-48ae-87e6-92e2e816dcf5",
   "metadata": {},
   "outputs": [],
   "source": [
    "''' Checkpoint '''\n",
    "%cd -q ~/asd/models/Stable-diffusion\n",
    "%download https://civitai.com/api/download/models/147913 meichidarkMixFp16_45.safetensors\n",
    "\n",
    "''' LoRA '''\n",
    "%cd -q ~/asd/models/Lora\n",
    "%download https://civitai.com/api/download/models/87153 add_detail.safetensors\n",
    "%download https://civitai.com/api/download/models/62833 Detail_Tweaker.safetensors\n",
    "%download https://civitai.com/api/download/models/86247 flat2.safetensors"
   ]
  },
  {
   "cell_type": "markdown",
   "id": "26452e55-03b1-48a3-a18f-d2a2c5a63d84",
   "metadata": {
    "tags": []
   },
   "source": [
    "#### *Temporary*"
   ]
  },
  {
   "cell_type": "code",
   "execution_count": null,
   "id": "f8a8e5bc-ebd3-41e5-a1ca-00037a623cd5",
   "metadata": {
    "tags": []
   },
   "outputs": [],
   "source": [
    "''' Controlnet models '''\n",
    "%run ~/asd/asd/controlnet.py"
   ]
  },
  {
   "cell_type": "code",
   "execution_count": null,
   "id": "07448e32-6837-44db-bef3-4dd8217e538e",
   "metadata": {
    "tags": []
   },
   "outputs": [],
   "source": [
    "''' Checkpoint '''\n",
    "%tempe\n",
    "%cd -q ~/asd/models/Stable-diffusion/tmp_ckpt\n",
    "%download https://civitai.com/api/download/models/357609 Juggernaut-XL_V9-RDPhoto2-Lightning_4S.safetensors\n",
    "\n",
    "''' LoRA '''\n",
    "%cd -q ~/asd/models/Lora/tmp_lora\n",
    "%download https://huggingface.co/Linaqruf/style-enhancer-xl-lora/resolve/main/style-enhancer-xl.safetensors style-enhancer-xl.safetensors\n",
    "%download https://huggingface.co/Linaqruf/anime-detailer-xl-lora/resolve/main/anime-detailer-xl.safetensors anime-detailer-xl.safetensors"
   ]
  },
  {
   "cell_type": "markdown",
   "id": "b4b19ba2-ae2b-481b-9b39-be6eac7a0f77",
   "metadata": {
    "tags": []
   },
   "source": [
    "## SD Web UI"
   ]
  },
  {
   "cell_type": "code",
   "execution_count": null,
   "id": "ee62d9df-7cde-48bd-9b8b-cf01a2ae3a1c",
   "metadata": {},
   "outputs": [],
   "source": [
    "''' Pinggy tunnel, relaunch every 1 hour '''\n",
    "\n",
    "%cd -q ~/asd\n",
    "%run venv.py\n",
    "!python pinggy.py --xformers --enable-insecure-extension-access --disable-console-progressbars --theme dark"
   ]
  },
  {
   "cell_type": "code",
   "execution_count": null,
   "id": "4cffd230-2fd0-49b2-a91d-eb5b826be801",
   "metadata": {
    "tags": []
   },
   "outputs": [],
   "source": [
    "token = \"YOUR_ZROK_TOKEN\"\n",
    "\n",
    "%cd -q ~/asd\n",
    "%run venv.py\n",
    "!python zrok.py {token} --xformers --enable-insecure-extension-access --disable-console-progressbars --theme dark"
   ]
  },
  {
   "cell_type": "code",
   "execution_count": null,
   "id": "b201e749-2765-4c3c-8663-8134916c1b2e",
   "metadata": {},
   "outputs": [],
   "source": [
    "token = \"YOUR_NGROK_TOKEN\"\n",
    "\n",
    "%cd -q ~/asd\n",
    "%run venv.py\n",
    "!python ngrok.py {token} --xformers --enable-insecure-extension-access --disable-console-progressbars --theme dark"
   ]
  },
  {
   "cell_type": "markdown",
   "id": "bfc58f9f-9be7-431e-9859-f75684eda0cf",
   "metadata": {
    "jp-MarkdownHeadingCollapsed": true,
    "tags": []
   },
   "source": [
    "## Extras"
   ]
  },
  {
   "cell_type": "code",
   "execution_count": null,
   "id": "bdf1c5e2-14ae-418b-aa87-3dfcf07e9135",
   "metadata": {
    "tags": []
   },
   "outputs": [],
   "source": [
    "''' Register ZROK account '''\n",
    "%run ~/asd/asd/zrok_reg.py"
   ]
  },
  {
   "cell_type": "code",
   "execution_count": null,
   "id": "7ca34e73-7d82-4eb7-9275-13ac2fe1ee75",
   "metadata": {},
   "outputs": [],
   "source": [
    "''' Change Civitai Api Key '''\n",
    "%change_key"
   ]
  },
  {
   "cell_type": "markdown",
   "id": "6b74f461-3a60-44fe-8d96-b6fe2f0105a5",
   "metadata": {
    "id": "bf5499c3-18fb-4325-8c37-5298751e4f97",
    "slideshow": {
     "slide_type": "skip"
    },
    "tags": []
   },
   "source": [
    "#### Storage"
   ]
  },
  {
   "cell_type": "code",
   "execution_count": null,
   "id": "fe9b41c3-932e-442c-9d5e-d43b83a8096d",
   "metadata": {
    "tags": []
   },
   "outputs": [],
   "source": [
    "''' Check Storage '''\n",
    "%storage"
   ]
  },
  {
   "cell_type": "code",
   "execution_count": null,
   "id": "9951220b-4c44-4e52-80db-9fe37ab3a6f2",
   "metadata": {
    "tags": []
   },
   "outputs": [],
   "source": [
    "''' Delete output images '''\n",
    "!rm -rf ~/asd/outputs/* ~/.cache/*"
   ]
  },
  {
   "cell_type": "code",
   "execution_count": null,
   "id": "ad29fba3-221f-4748-a0c1-9fef2c745c3f",
   "metadata": {
    "tags": []
   },
   "outputs": [],
   "source": [
    "''' Delete Stable Diffusion '''\n",
    "!rm -rf /tmp/* ~/tmp ~/asd ~/.cache/*"
   ]
  },
  {
   "cell_type": "code",
   "execution_count": null,
   "id": "9e058676-e9cc-4a39-aeae-c86852d44f5e",
   "metadata": {
    "tags": []
   },
   "outputs": [],
   "source": [
    "''' DELETE EVERYTHING , restart jupyterlab afterward '''\n",
    "%delete"
   ]
  },
  {
   "cell_type": "markdown",
   "id": "89f767e5-2ab8-41b0-81ed-8fda5af53342",
   "metadata": {
    "tags": []
   },
   "source": [
    "#### ```zip``` Output images"
   ]
  },
  {
   "cell_type": "code",
   "execution_count": null,
   "id": "e264e27c-0b24-463a-8ac7-88571517d370",
   "metadata": {
    "tags": []
   },
   "outputs": [],
   "source": [
    "%%zipping\n",
    "\n",
    "input_folder  = '/home/studio-lab-user/asd/outputs'\n",
    "output_folder = '/home/studio-lab-user'"
   ]
  }
 ],
 "metadata": {
  "kernelspec": {
   "display_name": "",
   "name": ""
  },
  "language_info": {
   "name": ""
  }
 },
 "nbformat": 4,
 "nbformat_minor": 5
}
