{
 "cells": [
  {
   "cell_type": "markdown",
   "id": "1aa13061-4879-421f-a472-8c4419b4e8b9",
   "metadata": {},
   "source": [
    "[![Open in Studio Lab](https://studiolab.sagemaker.aws/studiolab.svg)](https://studiolab.sagemaker.aws/import/github/gutris1/segsmaker/blob/main/Segsmaker.ipynb)"
   ]
  },
  {
   "cell_type": "markdown",
   "id": "26786ea3-e294-44b6-900a-798b0880de76",
   "metadata": {
    "tags": []
   },
   "source": [
    "## Conda"
   ]
  },
  {
   "cell_type": "code",
   "execution_count": null,
   "id": "3574c7ad-21c7-4b83-ba0d-ae6dc50bad74",
   "metadata": {
    "tags": []
   },
   "outputs": [],
   "source": [
    "!curl -sLo ~/.conda/conda_install.py https://github.com/gutris1/segsmaker/raw/main/script/conda.py\n",
    "%run ~/.conda/conda_install.py"
   ]
  },
  {
   "cell_type": "markdown",
   "id": "011fac09-3453-4fea-bad6-da971f037c3b",
   "metadata": {
    "tags": [],
    "toc-hr-collapsed": true
   },
   "source": [
    "## WebUI"
   ]
  },
  {
   "cell_type": "code",
   "execution_count": null,
   "id": "3b4990da-52c9-4728-b04a-a989215221e3",
   "metadata": {
    "tags": []
   },
   "outputs": [],
   "source": [
    "!curl -sLo ~/.conda/setup.py https://github.com/gutris1/segsmaker/raw/main/script/multi/setup.py\n",
    "%run ~/.conda/setup.py"
   ]
  },
  {
   "cell_type": "code",
   "execution_count": null,
   "id": "598827fd-7cf0-4d73-b982-c417916b7e96",
   "metadata": {
    "tags": []
   },
   "outputs": [],
   "source": [
    "''' SD Extensions / ComfyUI Custom Nodes '''\n",
    "%cd -q $extensions\n",
    "!git clone URL\n",
    "\n",
    "''' VAE '''\n",
    "%cd -q $vae\n",
    "%download https://huggingface.co/NoCrypt/resources/resolve/main/VAE/any.vae.safetensors any.vae.safetensors\n",
    "\n",
    "''' Embeddings '''\n",
    "%cd -q $embeddings\n",
    "%download"
   ]
  },
  {
   "cell_type": "markdown",
   "id": "0a0d2b52-763f-4002-ad88-1d4d8fcfded9",
   "metadata": {
    "tags": []
   },
   "source": [
    "#### *Persistent*"
   ]
  },
  {
   "cell_type": "code",
   "execution_count": null,
   "id": "a95d3607-519e-48ae-87e6-92e2e816dcf5",
   "metadata": {},
   "outputs": [],
   "source": [
    "''' Checkpoint '''\n",
    "%cd -q $ckpt\n",
    "%download https://huggingface.co/pantat88/back_up/resolve/main/Ddmix_25D_v12_slim.safetensors\n",
    "\n",
    "''' LoRA '''\n",
    "%cd -q $lora\n",
    "%download https://civitai.com/api/download/models/87153 add_detail.safetensors\n",
    "%download https://civitai.com/api/download/models/62833 Detail_Tweaker.safetensors\n",
    "%download https://civitai.com/api/download/models/86247 flat2.safetensors"
   ]
  },
  {
   "cell_type": "markdown",
   "id": "26452e55-03b1-48a3-a18f-d2a2c5a63d84",
   "metadata": {
    "tags": []
   },
   "source": [
    "#### *Temporary*"
   ]
  },
  {
   "cell_type": "code",
   "execution_count": null,
   "id": "f8a8e5bc-ebd3-41e5-a1ca-00037a623cd5",
   "metadata": {
    "tags": []
   },
   "outputs": [],
   "source": [
    "''' Controlnet models '''\n",
    "%run $controlnet_models"
   ]
  },
  {
   "cell_type": "code",
   "execution_count": null,
   "id": "07448e32-6837-44db-bef3-4dd8217e538e",
   "metadata": {
    "tags": []
   },
   "outputs": [],
   "source": [
    "''' TMP Checkpoint '''\n",
    "%cd -q $tmp_ckpt\n",
    "%download https://civitai.com/api/download/models/357609 Juggernaut-XL_V9-RDPhoto2-Lightning_4S.safetensors\n",
    "\n",
    "''' TMP LoRA '''\n",
    "%cd -q $tmp_lora\n",
    "%download https://huggingface.co/Linaqruf/style-enhancer-xl-lora/resolve/main/style-enhancer-xl.safetensors style-enhancer-xl.safetensors\n",
    "%download https://huggingface.co/Linaqruf/anime-detailer-xl-lora/resolve/main/anime-detailer-xl.safetensors anime-detailer-xl.safetensors"
   ]
  },
  {
   "cell_type": "code",
   "execution_count": null,
   "id": "ef5d46e8-77fb-4b67-bed1-cd19968233f1",
   "metadata": {},
   "outputs": [],
   "source": [
    "''' SVD - Forge / ReForge only '''\n",
    "%cd -q $forge_svd\n",
    "%download https://huggingface.co/stabilityai/stable-video-diffusion-img2vid/resolve/main/svd.safetensors svd.safetensors\n",
    "%download https://huggingface.co/stabilityai/stable-video-diffusion-img2vid/resolve/main/svd_image_decoder.safetensors svd_image_decoder.safetensors"
   ]
  },
  {
   "cell_type": "markdown",
   "id": "b4b19ba2-ae2b-481b-9b39-be6eac7a0f77",
   "metadata": {
    "tags": []
   },
   "source": [
    "# Launch\n",
    "<span style=\"font-size:14px;\">• add <span style=\"color:red;\">--skip-widget</span> to load previous widget config and launch immediately.</span><br>\n",
    "<span style=\"font-size:14px;\">• For ComfyUI, add <span style=\"color:red\">--skip-comfyui-check</span> to skip checking custom node dependencies</span><br>\n",
    "\n",
    "<span style=\"font-size:13px;\">\n",
    "  <span style=\"color:#ab23ff\">%</span>run segsmaker.<span style=\"color:#42a5f5\">py</span>\n",
    "  <span style=\"color:#ab23ff\">--</span>skip<span style=\"color:#ab23ff\">-</span>widget \n",
    "  <span style=\"color:#ab23ff\">--</span>skip<span style=\"color:#ab23ff\">-</span>comfyui-check\n",
    "</span>"
   ]
  },
  {
   "cell_type": "code",
   "execution_count": null,
   "id": "ee62d9df-7cde-48bd-9b8b-cf01a2ae3a1c",
   "metadata": {},
   "outputs": [],
   "source": [
    "%cd -q $webui\n",
    "\n",
    "%run segsmaker.py"
   ]
  },
  {
   "cell_type": "markdown",
   "id": "bfc58f9f-9be7-431e-9859-f75684eda0cf",
   "metadata": {
    "jp-MarkdownHeadingCollapsed": true,
    "tags": []
   },
   "source": [
    "## Extras"
   ]
  },
  {
   "cell_type": "code",
   "execution_count": null,
   "id": "bdf1c5e2-14ae-418b-aa87-3dfcf07e9135",
   "metadata": {
    "tags": []
   },
   "outputs": [],
   "source": [
    "''' Register ZROK account '''\n",
    "%zrok_register"
   ]
  },
  {
   "cell_type": "code",
   "execution_count": null,
   "id": "7ca34e73-7d82-4eb7-9275-13ac2fe1ee75",
   "metadata": {},
   "outputs": [],
   "source": [
    "''' Change Civitai Api Key '''\n",
    "%change_key"
   ]
  },
  {
   "cell_type": "markdown",
   "id": "6b74f461-3a60-44fe-8d96-b6fe2f0105a5",
   "metadata": {
    "id": "bf5499c3-18fb-4325-8c37-5298751e4f97",
    "slideshow": {
     "slide_type": "skip"
    },
    "tags": []
   },
   "source": [
    "#### Storage"
   ]
  },
  {
   "cell_type": "code",
   "execution_count": null,
   "id": "fe9b41c3-932e-442c-9d5e-d43b83a8096d",
   "metadata": {
    "tags": []
   },
   "outputs": [],
   "source": [
    "''' Check Storage '''\n",
    "%storage"
   ]
  },
  {
   "cell_type": "code",
   "execution_count": null,
   "id": "9951220b-4c44-4e52-80db-9fe37ab3a6f2",
   "metadata": {
    "tags": []
   },
   "outputs": [],
   "source": [
    "''' Clear Output Images '''\n",
    "%clear_output_images"
   ]
  },
  {
   "cell_type": "code",
   "execution_count": null,
   "id": "ad29fba3-221f-4748-a0c1-9fef2c745c3f",
   "metadata": {
    "tags": []
   },
   "outputs": [],
   "source": [
    "''' Uninstall Web UI '''\n",
    "%uninstall_webui"
   ]
  },
  {
   "cell_type": "code",
   "execution_count": null,
   "id": "9e058676-e9cc-4a39-aeae-c86852d44f5e",
   "metadata": {
    "tags": []
   },
   "outputs": [],
   "source": [
    "''' DELETE EVERYTHING , restart jupyterlab afterward '''\n",
    "%delete_everything"
   ]
  },
  {
   "cell_type": "markdown",
   "id": "89f767e5-2ab8-41b0-81ed-8fda5af53342",
   "metadata": {
    "tags": []
   },
   "source": [
    "#### ```zip``` Output images"
   ]
  },
  {
   "cell_type": "code",
   "execution_count": null,
   "id": "e264e27c-0b24-463a-8ac7-88571517d370",
   "metadata": {
    "tags": []
   },
   "outputs": [],
   "source": [
    "%%zipping\n",
    "\n",
    "name    = 'your_zip_name'\n",
    "inputs  = $webui_output\n",
    "outputs = $home"
   ]
  }
 ],
 "metadata": {
  "kernelspec": {
   "display_name": "",
   "name": ""
  },
  "language_info": {
   "name": ""
  }
 },
 "nbformat": 4,
 "nbformat_minor": 5
}
